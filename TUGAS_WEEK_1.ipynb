{
  "nbformat": 4,
  "nbformat_minor": 0,
  "metadata": {
    "colab": {
      "provenance": [],
      "toc_visible": true,
      "authorship_tag": "ABX9TyNAl6GIiFWMEiSWsIfeh/me",
      "include_colab_link": true
    },
    "kernelspec": {
      "name": "python3",
      "display_name": "Python 3"
    },
    "language_info": {
      "name": "python"
    }
  },
  "cells": [
    {
      "cell_type": "markdown",
      "metadata": {
        "id": "view-in-github",
        "colab_type": "text"
      },
      "source": [
        "<a href=\"https://colab.research.google.com/github/lianidya/algoritma_pemograman/blob/main/TUGAS_WEEK_1.ipynb\" target=\"_parent\"><img src=\"https://colab.research.google.com/assets/colab-badge.svg\" alt=\"Open In Colab\"/></a>"
      ]
    },
    {
      "cell_type": "code",
      "execution_count": null,
      "metadata": {
        "colab": {
          "base_uri": "https://localhost:8080/"
        },
        "id": "maIgJXNkBuFT",
        "outputId": "529fef6c-7f18-4346-cb6e-593a9997b240"
      },
      "outputs": [
        {
          "output_type": "stream",
          "name": "stdout",
          "text": [
            "Hello, phyton!\n"
          ]
        }
      ],
      "source": [
        "print ('Hello, phyton!')"
      ]
    },
    {
      "cell_type": "code",
      "source": [
        "print(\"Universitas Tidar\")"
      ],
      "metadata": {
        "colab": {
          "base_uri": "https://localhost:8080/"
        },
        "id": "V0ruwZFNDDiH",
        "outputId": "183aa7d2-04b3-4448-ea3a-a35738b63a52"
      },
      "execution_count": null,
      "outputs": [
        {
          "output_type": "stream",
          "name": "stdout",
          "text": [
            "Universitas Tidar\n"
          ]
        }
      ]
    },
    {
      "cell_type": "code",
      "source": [
        "import sys\n",
        "print(sys.version)"
      ],
      "metadata": {
        "colab": {
          "base_uri": "https://localhost:8080/"
        },
        "id": "jBWn1kI-F7Id",
        "outputId": "7456aa95-d742-4f57-ed3c-d19ac0674115"
      },
      "execution_count": null,
      "outputs": [
        {
          "output_type": "stream",
          "name": "stdout",
          "text": [
            "3.10.12 (main, Jul 29 2024, 16:56:48) [GCC 11.4.0]\n"
          ]
        }
      ]
    },
    {
      "cell_type": "code",
      "source": [
        "print('Hello, Phyton!')\n",
        "print('Hi!')"
      ],
      "metadata": {
        "colab": {
          "base_uri": "https://localhost:8080/"
        },
        "id": "OWKxByEZGLM_",
        "outputId": "dd59b817-97f8-4c69-d458-8564ec97baaf"
      },
      "execution_count": null,
      "outputs": [
        {
          "output_type": "stream",
          "name": "stdout",
          "text": [
            "Hello, Phyton!\n",
            "Hi!\n"
          ]
        }
      ]
    },
    {
      "cell_type": "code",
      "source": [
        "print(\"Nama         : Aulia Nidya Kusuma Dewati\")\n",
        "print(1 *\"\\n\")\n",
        "print(\"NPM          : 2440506077\")\n",
        "print(1 *\"\\n\")\n",
        "print(\"Alamat       : Perum Depkes A8 no 7\")\n",
        "print(1 *\"\\n\")\n",
        "print(\"Tinggi Badan : 167,5\")\n",
        "print(1 *\"\\n\")\n",
        "print(\"Berat Badan  : 59\")"
      ],
      "metadata": {
        "colab": {
          "base_uri": "https://localhost:8080/"
        },
        "id": "u5bLNsLnG9Nn",
        "outputId": "ecc120dd-ce1f-471d-a2c1-96a501fe7258"
      },
      "execution_count": null,
      "outputs": [
        {
          "output_type": "stream",
          "name": "stdout",
          "text": [
            "Nama         : Aulia Nidya Kusuma Dewati\n",
            "\n",
            "\n",
            "NPM          : 2440506077\n",
            "\n",
            "\n",
            "Alamat       : Perum Depkes A8 no 7\n",
            "\n",
            "\n",
            "Tinggi Badan : 167,5\n",
            "\n",
            "\n",
            "Berat Badan  : 59\n"
          ]
        }
      ]
    },
    {
      "cell_type": "code",
      "source": [
        "print('\\033[1m'+'UNIVERSITAS TIDAR'+'\\033[0m')\n",
        "print(\"Universitas Tidar merupakan Perguruan Pemerintah atau Perguruan Tinggi Negeri yang telah ditetapkan berdasarkan peraturan\")\n",
        "print(1 *\"\\n\")\n",
        "print('\\033[1m'+'JURUSAN TEKNIK ELEKTRO, MEKATRONIKA, INFORMASI'+'\\033[0m')\n",
        "print('Jurusan Teknik Elektro terdiri atas tiga program studi, antara lain:')\n",
        "print('  1. S1 Teknik Elektro (\\x1b[3mBachelor of Electrical Engineering\\x1b[0m)')\n",
        "print('  2. S1 Teknologi Informasi (\\x1b[3mBachelor of Information Technology\\x1b[0m)')\n",
        "print('  3. S1 Teknik Mekatronika (\\x1b[3mBachelor of Mechatronics Engineeering\\x1b[0m)')"
      ],
      "metadata": {
        "colab": {
          "base_uri": "https://localhost:8080/"
        },
        "id": "U0FIUvOgKvMn",
        "outputId": "eb16749f-28d3-4fab-8ab9-a7b96401dc8e"
      },
      "execution_count": null,
      "outputs": [
        {
          "output_type": "stream",
          "name": "stdout",
          "text": [
            "\u001b[1mUNIVERSITAS TIDAR\u001b[0m\n",
            "Universitas Tidar merupakan Perguruan Pemerintah atau Perguruan Tinggi Negeri yang telah ditetapkan berdasarkan peraturan\n",
            "\n",
            "\n",
            "\u001b[1mJURUSAN TEKNIK ELEKTRO, MEKATRONIKA, INFORMASI\u001b[0m\n",
            "Jurusan Teknik Elektro terdiri atas tiga program studi, antara lain:\n",
            "  1. S1 Teknik Elektro (\u001b[3mBachelor of Electrical Engineering\u001b[0m)\n",
            "  2. S1 Teknologi Informasi (\u001b[3mBachelor of Information Technology\u001b[0m)\n",
            "  3. S1 Teknik Mekatronika (\u001b[3mBachelor of Mechatronics Engineeering\u001b[0m)\n"
          ]
        }
      ]
    },
    {
      "cell_type": "code",
      "source": [],
      "metadata": {
        "id": "IzyjmoRDQx8v"
      },
      "execution_count": null,
      "outputs": []
    }
  ]
}